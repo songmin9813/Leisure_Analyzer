{
 "cells": [
  {
   "cell_type": "code",
   "execution_count": 2,
   "metadata": {},
   "outputs": [],
   "source": [
    "from konlpy.tag import Kkma\n",
    "from konlpy.tag import Komoran\n",
    "from konlpy.tag import Hannanum\n",
    "import MeCab\n",
    "\n",
    "#윈도우 mecab 불러오기\n",
    "\n",
    "from konlpy.tag import Okt\n",
    "import re\n",
    "\n",
    "#형태소 분석을 위한 객체 생성\n",
    "kkma=Kkma()\n",
    "komoran=Komoran()\n",
    "hannanum=Hannanum()\n",
    "#윈도우에서 Mecab생성\n",
    "mecab=MeCab.Tagger()\n",
    "okt=Okt()"
   ]
  },
  {
   "cell_type": "markdown",
   "metadata": {},
   "source": [
    "- 일단 크롤링 먼저 진행해보자"
   ]
  },
  {
   "cell_type": "code",
   "execution_count": 18,
   "metadata": {},
   "outputs": [],
   "source": [
    "# 네이버 검색 Open API 블로그 검색\n",
    "import os\n",
    "import sys\n",
    "import urllib.request\n",
    "import requests\n",
    "client_id = \"VgiiEchRVhf_oxSjnDd7\"\n",
    "client_secret = \"L1N7U_zD8O\"\n",
    "def call(keyword, start):\n",
    "    encText = urllib.parse.quote(keyword)\n",
    "    url = \"https://openapi.naver.com/v1/search/blog?query=\" + encText+\"&sort=sim&display=100&start=\"+str(start) # json 결과\n",
    "    result=requests.get(url=url, headers={\"X-Naver-Client-Id\":client_id,'X-Naver-Client-Secret':client_secret})\n",
    "    print(result)\n",
    "    return result.json()\n",
    "\n",
    "def results(keyword):\n",
    "    list_=[]\n",
    "    for num in range(0,10):\n",
    "        list_=list_+call(keyword,num*110+1)['items']\n",
    "    return list_"
   ]
  },
  {
   "cell_type": "code",
   "execution_count": null,
   "metadata": {},
   "outputs": [],
   "source": [
    "#여가 리스트 검색어 생성\n",
    "leisure_list=[\n",
    "    \n",
    "]"
   ]
  },
  {
   "cell_type": "code",
   "execution_count": 19,
   "metadata": {},
   "outputs": [
    {
     "name": "stdout",
     "output_type": "stream",
     "text": [
      "<Response [200]>\n",
      "<Response [200]>\n",
      "<Response [200]>\n",
      "<Response [200]>\n",
      "<Response [200]>\n",
      "<Response [200]>\n",
      "<Response [200]>\n",
      "<Response [200]>\n",
      "<Response [200]>\n",
      "<Response [200]>\n"
     ]
    },
    {
     "data": {
      "text/plain": [
       "914269"
      ]
     },
     "execution_count": 19,
     "metadata": {},
     "output_type": "execute_result"
    }
   ],
   "source": [
    "import json\n",
    "list_=[]\n",
    "result=results('노래방')\n",
    "list_=list_+result\n",
    "\n",
    "file=open('./Leisures/노래방.json','w+')\n",
    "file.write(json.dumps(list_))"
   ]
  },
  {
   "cell_type": "code",
   "execution_count": 20,
   "metadata": {},
   "outputs": [],
   "source": [
    "import pandas as pd\n",
    "df=pd.read_json('./Leisures/.json')\n",
    "df.to_csv('./Leisures/crawling_노래방.csv',encoding='utf-8-sig',index=False)"
   ]
  },
  {
   "cell_type": "code",
   "execution_count": null,
   "metadata": {},
   "outputs": [],
   "source": []
  }
 ],
 "metadata": {
  "kernelspec": {
   "display_name": "Text",
   "language": "python",
   "name": "mining"
  },
  "language_info": {
   "codemirror_mode": {
    "name": "ipython",
    "version": 3
   },
   "file_extension": ".py",
   "mimetype": "text/x-python",
   "name": "python",
   "nbconvert_exporter": "python",
   "pygments_lexer": "ipython3",
   "version": "3.6.10"
  }
 },
 "nbformat": 4,
 "nbformat_minor": 5
}
