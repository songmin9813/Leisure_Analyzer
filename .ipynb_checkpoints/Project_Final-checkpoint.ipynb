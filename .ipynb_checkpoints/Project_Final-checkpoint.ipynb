{
 "cells": [
  {
   "cell_type": "markdown",
   "metadata": {},
   "source": [
    "- 필요한 라이브러리 import"
   ]
  },
  {
   "cell_type": "code",
   "execution_count": 62,
   "metadata": {},
   "outputs": [],
   "source": [
    "import os\n",
    "import pickle\n",
    "import sys\n",
    "import urllib.request\n",
    "import requests\n",
    "import MeCab#윈도우 mecab 불러오기\n",
    "import nltk\n",
    "import json\n",
    "import pandas as pd\n",
    "import requests\n",
    "import re #추가\n",
    "import matplotlib.pyplot as plt\n",
    "import numpy as np\n",
    "from bs4 import BeautifulSoup\n",
    "from urllib.parse import quote\n",
    "from pandas import Series\n",
    "from sklearn.cluster import KMeans\n",
    "\n",
    "#윈도우에서 Mecab생성\n",
    "mecab=MeCab.Tagger()"
   ]
  },
  {
   "cell_type": "markdown",
   "metadata": {},
   "source": [
    "- 관련 리스트 사전 생성\n",
    "- 국민 여가활동 설문지에서 주어진 여가 활동 항목들을 세분화시켜 총 211개의 취미 리스트 생성"
   ]
  },
  {
   "cell_type": "code",
   "execution_count": 63,
   "metadata": {},
   "outputs": [],
   "source": [
    "big_cat=[#큰 카테고리 검색용\n",
    "    '문화예술관람활동','문화예술참여활동','스포츠관람활동',\n",
    "    '스포츠참여활동','관광활동','취미/오락활동',\n",
    "    '휴식활동','사회/기타활동'\n",
    "]\n",
    "leisure_dict_search=[#여가 딕셔너리 검색어 생성(검색/출력용)\n",
    "    #문화예술관람활동\n",
    "    ['미술_전시회_관람','사진_전시회_관람','건축_전시회_관람','디자인_전시회_관람',\n",
    "    '박물관_관람',\n",
    "    '클래식_음악_연주회_관람','오페라_음악_연주회_관람',\n",
    "    '국악_전통공연_관람','민속놀이_공연_관람',\n",
    "    '연극공연_관람','뮤지컬_관람',\n",
    "    '무용_공연_관람',\n",
    "    '영화_관람',\n",
    "    '쇼_공연_관람','콘서트_공연_관람','마술_쇼_공연_관람'],\n",
    "    #문화예술참여활동\n",
    "    ['문학_행사_참여',\n",
    "    '글짓기_참여' ,'독서_토론_참여',\n",
    "    '그림_활동_참여','서예_활동_참여','조각_활동_참여','디자인_활동_참여','도예_활동_참여','만화_활동_참여',\n",
    "    '악기_연주_참여','노래교실 참여',\n",
    "    '춤_참여','무용_참여','발레_참여','한국무용_참여','현대무용_참여','방송댄스_참여','스트릿댄스_참여','비보잉_참여',\n",
    "    '사진_촬영',\n",
    "    '사물놀이_참여','줄타기_참여'],\n",
    "    #스포츠관람활동\n",
    "    ['축구_경기장_방문_관람' ,'야구_경기장_방문_관람','농구_경기장_방문_관람','배구_경기장_방문_관람',\n",
    "    '축구_경기_티비_관람','야구_경기_티비_관람','농구_경기_티비_관람','배구_경기_티비_관람',\n",
    "    '태권도_경기_관람','유도_경기_관람','합기도_경기_관람','검도_경기_관람','권투_경기_관람',\n",
    "    'e-스포츠_경기_관람'],\n",
    "    #스포츠참여활동\n",
    "    ['농구_참가','배구_참가','야구_참가','축구_참가','족구_참여',\n",
    "    '테니스_참여','스쿼시_참여',\n",
    "    '당구_참여','포켓볼_참여',\n",
    "    '볼링_참여','탁구_참여',\n",
    "    '골프_참여',\n",
    "    '수영_참여' ,\n",
    "    '윈드서핑_참여','수상스키_참여','스킨스쿠버다이빙_참여','래프팅_참여','요트_참여',\n",
    "    '스노보드_참여','스키_참여',\n",
    "    '아이스스케이트_참여','아이스하키_참여',\n",
    "    '헬스_참여','보디빌딩_참여','에어로빅_참여',\n",
    "    '요가_참여','필라테스_참여','태보_운동_참여',\n",
    "    '배드민턴_참여','줄넘기_참여','맨손_체조_참여','스트레칭_참여','훌라후프_참여',\n",
    "    '육상_참여','조깅_참여','빠르게_걷기_참여',\n",
    "    '태권도_참여','유도_경기_참가','합기도_참여','검도_참여','권투_참여',\n",
    "    '탱고_참여','왈츠_댄스_참여','자이브_참여','맘보_참여','폴카_댄스_참여','차차차_댄스_참여',\n",
    "    '사이클링_참여','자전거_참여',\n",
    "    '인라인_스케이트_참여',\n",
    "    '승마_참여','암벽등반_참여','철인삼종경기_참여','서바이벌_참여'],\n",
    "    #관광활동\n",
    "    ['문화유적_방문',\n",
    "    '자연명승_방문','풍경_관람',\n",
    "    '삼림욕',\n",
    "    '국내캠핑',\n",
    "    '해외여행',\n",
    "    '소풍','야유회',\n",
    "    '온천','해수욕',\n",
    "    '유람선_타기',\n",
    "    '테마파크_가기','놀이공원_가기','동물원_가기','식물원_가기',\n",
    "    '지역축제_참가',\n",
    "    '자동차_드라이브'],\n",
    "    #취미오락활동\n",
    "    ['콜렉션','스크랩북',\n",
    "    '십자수','비즈공예', 'DIY','꽃꽂이',\n",
    "    '요리하기','다도',\n",
    "    '반려동물_키우기',\n",
    "    '노래방_가기',\n",
    "    '집_인테리어','자동차_인테리어',\n",
    "    '등산',\n",
    "    '낚시',\n",
    "    '홈페이지_관리','블로그_관리',\n",
    "    '인터넷_검색','1인_미디어_제작','SNS',\n",
    "    '온라인_게임','모바일_게임','콘솔_게임',\n",
    "    '보드게임','퍼즐','큐브_맞추기',\n",
    "    '바둑','장기','체스',\n",
    "    '경마','경륜','카드놀이','고스톱','마작','복권구입',\n",
    "    '쇼핑','외식',\n",
    "    '음주',\n",
    "    '독서','웹소설',\n",
    "    '만화보기','웹툰보기',\n",
    "    '피부관리','헤어관리','네일아트','마사지','성형',\n",
    "    '어학_공부','기술_공부','자격증_공부',\n",
    "    '방탈출_카페_체험','VR_카페_체험','낚시카페_체험',\n",
    "    '원예','화단_가꾸기'],\n",
    "    #휴식활동\n",
    "    ['산책','걷기',\n",
    "    '목욕','사우나','찜질방',\n",
    "    '낮잠',\n",
    "    'TV_시청',\n",
    "    '모바일_컨텐츠','동영상_시청',\n",
    "    '라디오_청취','팟캐스트_청취',\n",
    "    '음악_감상',\n",
    "    '신문_보기','잡지_보기',\n",
    "    '아무것도_안_하기'],\n",
    "    #사회 및 기타활동\n",
    "    ['사회봉사',\n",
    "    '종교활동',\n",
    "    '클럽_가기','나이트_가기','디스코_가기','캬바레_가기',\n",
    "    '가족_방문','친지_방문',\n",
    "    '잡담','통화하기','문자보내기',\n",
    "    '계모임','동창회','사교파티',\n",
    "    '친구_만남','이성교제','미팅','소개팅',\n",
    "    '동호회_모임']\n",
    "]"
   ]
  },
  {
   "cell_type": "markdown",
   "metadata": {},
   "source": [
    "## 사용자 입장에서 확인하려면 6번 항목부터 열람 요망"
   ]
  },
  {
   "cell_type": "markdown",
   "metadata": {},
   "source": [
    "# 1. 네이버 API를 이용하여 블로그 url 크롤링"
   ]
  },
  {
   "cell_type": "code",
   "execution_count": null,
   "metadata": {},
   "outputs": [],
   "source": [
    "client_id = \"\"\n",
    "client_secret = \"\"\n",
    "#API를 사용한 크롤링 함수 작성\n",
    "def call(keyword, start):\n",
    "    encText = urllib.parse.quote(keyword)\n",
    "    url = \"https://openapi.naver.com/v1/search/blog?query=\" + encText+\"&sort=sim&display=100&start=\"+str(start) # json 결과\n",
    "    result=requests.get(url=url, headers={\"X-Naver-Client-Id\":client_id,'X-Naver-Client-Secret':client_secret})\n",
    "    print(result)\n",
    "    return result.json()\n",
    "\n",
    "def results(keyword):\n",
    "    list_=[]\n",
    "    for num in range(0,10):\n",
    "        list_=list_+call(keyword,num*110+1)['items']\n",
    "    return list_"
   ]
  },
  {
   "cell_type": "code",
   "execution_count": null,
   "metadata": {},
   "outputs": [],
   "source": [
    "for row in leisure_dict_search:\n",
    "    for obj in row:\n",
    "        list_=[]\n",
    "        result=results(obj)\n",
    "        list_=list_+result\n",
    "\n",
    "        file=open('./Leisures/Raw_Data/'+obj+'.json','w+')#json 파일을 받기에 json을 csv 파일로 변환하는 작업 포함\n",
    "        file.write(json.dumps(list_))\n",
    "        df=pd.read_json('./Leisures/Raw_Data/'+obj+'.json')\n",
    "        df.to_csv('./Leisures/CSV_Data/crawling_'+obj+'.csv',encoding='utf-8-sig',index=False)"
   ]
  },
  {
   "cell_type": "markdown",
   "metadata": {},
   "source": [
    "- 결과물 : 각 취미별 블로그 url 정보가 담겨있는 json+csv 파일 211개\n",
    "- csv 파일 내에 description이 본문 전체 정보가 아닌 요약 정보이기 때문에 일일이 검색하면서 본문을 찾는 작업이 필요했다."
   ]
  },
  {
   "cell_type": "markdown",
   "metadata": {},
   "source": [
    "# 2. url을 이용한 실제 본문 크롤링"
   ]
  },
  {
   "cell_type": "markdown",
   "metadata": {},
   "source": [
    "- iframe내의 본문 정보를 긁어내기 위해 iframe 관련 함수, 텍스트를 잘라내는 함수 2개를 작성"
   ]
  },
  {
   "cell_type": "code",
   "execution_count": null,
   "metadata": {},
   "outputs": [],
   "source": [
    "def delete_iframe(url):\n",
    "    headers = {\"User-Agent\":\"Mozilla/5.0 (Windows NT 10.0; Win64; x64) AppleWebKit/537.36 (KHTML, like Gecko) Chrome/91.0.4472.164 Safari/537.36\"}\n",
    "    res = requests.get(url, headers=headers)\n",
    "    if res.status_code!=200:\n",
    "        print(\"iframe slicing에 실패하였습니다. 다음 페이지로 넘어갑니다.\")\n",
    "        return\n",
    "    soup = BeautifulSoup(res.text, \"lxml\") \n",
    "\n",
    "    src_url = \"https://blog.naver.com/\" + soup.iframe[\"src\"]#네이버 블로그인 경우에만 리턴\n",
    "    \n",
    "    return src_url"
   ]
  },
  {
   "cell_type": "code",
   "execution_count": null,
   "metadata": {},
   "outputs": [],
   "source": [
    "# 본문 스크래핑\n",
    "def text_scraping(url):\n",
    "    if url is None:\n",
    "        print(\"scraping에 실패하였습니다. 다음 페이지로 넘어갑니다.\")\n",
    "        return \"\"\n",
    "    headers = {\"User-Agent\":\"Mozilla/5.0 (Windows NT 10.0; Win64; x64) AppleWebKit/537.36 (KHTML, like Gecko) Chrome/91.0.4472.164 Safari/537.36\"}\n",
    "    res = requests.get(url, headers=headers)\n",
    "    soup = BeautifulSoup(res.text, \"lxml\") \n",
    "\n",
    "    if soup.find(\"div\", attrs={\"class\":\"se-main-container\"}):\n",
    "        text = soup.find(\"div\", attrs={\"class\":\"se-main-container\"}).get_text()\n",
    "        text = text.replace(\"\\n\",\"\") #공백 제거\n",
    "        return text\n",
    "\n",
    "    elif soup.find(\"div\", attrs={\"id\":\"postViewArea\"}):\n",
    "        text = soup.find(\"div\", attrs={\"id\":\"postViewArea\"}).get_text()\n",
    "        text = text.replace(\"\\n\",\"\") \n",
    "        return text\n",
    "    else:\n",
    "        return \"네이버 블로그는 맞지만, 확인불가\""
   ]
  },
  {
   "cell_type": "code",
   "execution_count": null,
   "metadata": {},
   "outputs": [],
   "source": [
    "#실제 블로그 크롤링 코드\n",
    "for i1,row in enumerate(leisure_dict_search):\n",
    "    for i2,obj in enumerate(row):\n",
    "        data=pd.read_csv('./Leisures/CSV_Data/crawling_'+obj+'.csv')\n",
    "        link_list=list(data['link'])\n",
    "        text_container=\"\"\n",
    "        for index,post in enumerate(link_list):\n",
    "            print(obj+\"의 \"+str(index)+\"번째 블로그 크롤링 진행\")\n",
    "            blog_p = re.compile(\"blog.naver.com\")\n",
    "            blog_m = blog_p.search(post)\n",
    "            if blog_m:\n",
    "                blog_text = text_scraping(delete_iframe(post))\n",
    "                text_container=text_container+blog_text\n",
    "                print(\"해당 블로그 글자수 : \"+str(len(blog_text)))\n",
    "                print(\"누적 글자수 : \"+str(len(text_container)))\n",
    "        f = open(\"./Leisures/Text/\"+obj+\".txt\", 'w',encoding='UTF8')\n",
    "        f.write(text_container)\n",
    "        f.close()"
   ]
  },
  {
   "cell_type": "markdown",
   "metadata": {},
   "source": [
    "- 결과물 : 211개의 취미별로 1000개의 블로그 본문만을 합쳐놓은 txt 데이터 211개\n",
    "- 검색으로 모호한 결과가 나오는 일부 검색어에 대해서 재검색 후 적용\n",
    "  - 장기 -> 장기게임\n",
    "  - 경륜 -> 하나님/교회 키워드를 제외하고 검색\n",
    "  - 태보 -> 나라 키워드를 제외하고 검색\n",
    "  - TV -> 영어는 검색되지 않기 때문에 티비로 변경\n",
    "  - 왈츠/차차차/폴카 -> 왈츠 댄스, 차차차 댄스, 폴카 댄스\n",
    "  - 유도 참가 -> 유도 경기 참가"
   ]
  },
  {
   "cell_type": "markdown",
   "metadata": {},
   "source": [
    "# 3. 텍스트 마이닝"
   ]
  },
  {
   "cell_type": "markdown",
   "metadata": {},
   "source": [
    "- 주요 단어를 추출하기 전, 일반적으로 쉽게 나올 수 있는 대표 불용어 100개 사전 제거"
   ]
  },
  {
   "cell_type": "code",
   "execution_count": 57,
   "metadata": {},
   "outputs": [],
   "source": [
    "stop_words=[\n",
    "    '이','있','하','것','들','그','되','이','보','않','없','나','같','없','가','때','들','주','등','같',\n",
    "    '년','한','지','오','말','일','나오','그렇','위하','때문','그것','두','알','그러나','받','못하','요즘',\n",
    "    '그런','또','더','그리고','좋','중','따르','가지','씨','시키','살','될','안','데','내','경우','다시','그녀',\n",
    "    '이런','앞','나','된','잘','놓','위','위해','했','받','해','대해','해서','통해','후기','사','점','끝',\n",
    "    '이번','큰','와서','동안','지금','오늘','코로나','네이버','위한','넣','크','맞','날','할','속','남','그때',\n",
    "    '한다','작','적','많','왔','해도','된다','전','이르','후'\n",
    "]"
   ]
  },
  {
   "cell_type": "markdown",
   "metadata": {},
   "source": [
    "- mecab 라이브러리의 특성을 활용하여 정규표현식+관련 단어만 추출해내는 함수 작성\n",
    "- 기본적으로 **불용어 제외/일반명사, 고유명사, 동사, 형용사, 어근만을 추출**하는 프로그램을 작성하였다."
   ]
  },
  {
   "cell_type": "code",
   "execution_count": 54,
   "metadata": {},
   "outputs": [],
   "source": [
    "def mecab_extract(text,obj):\n",
    "    nouns = []\n",
    "    temp=[]\n",
    "    obj_list=obj.split(\"_\")\n",
    "    # 우리가 원하는 TOKEN\\tPOS의 형태를 추출하는 정규표현식.\n",
    "    pattern = re.compile(\".*\\t[A-Z]+\") \n",
    "    \n",
    "    # 패턴에 맞는 문자열을 추출하여 konlpy의 mecab 결과와 같아지도록 수정.\n",
    "    for token in mecab.parse(text).splitlines()[:-1]:\n",
    "        temptuple=pattern.match(token)\n",
    "        if(temptuple!=None):#몇 구문에서 공백도 처리하는 문제 발생. 파이썬스러운 구문으로 하기에는 문제가 좀 있음\n",
    "            temp.append(tuple(temptuple.group(0).split(\"\\t\")))\n",
    "    \n",
    "    # 추출한 token중에 일반명사, 고유명사, 동사, 형용사, 어근 추출\n",
    "    for token in temp:\n",
    "        if token[0] in stop_words or token[0] in obj_list: #불용어 100개 제거\n",
    "            continue\n",
    "        if token[1] == \"NNG\" or token[1] == \"NNP\" or token[1] == \"VV\" or token[1] == \"VA\" or token[1] == \"XR\":\n",
    "            nouns.append(token[0])\n",
    "        \n",
    "    return nouns"
   ]
  },
  {
   "cell_type": "markdown",
   "metadata": {},
   "source": [
    "- 프로그램을 사용할 때마다 일일이 mecab 라이브러리를 이용하면 성능 저하가 일어나는 것을 확인함\n",
    "- 이에 단어 분석을 한 결과를 pickle 라이브러리를 이용하여 바이너리 형태로 저장하기로 함\n",
    "- 기본적으로 pkl 파일에 가장 빈도가 높은 단어 500개의 종류와 그 빈도가 저장되어 있음"
   ]
  },
  {
   "cell_type": "code",
   "execution_count": null,
   "metadata": {},
   "outputs": [],
   "source": [
    "#pickle 파일 저장\n",
    "for row in leisure_dict_search:\n",
    "    for obj in row:\n",
    "        fread=open(\"./Leisures/Text/\"+obj+\".txt\", 'r',encoding='UTF8')\n",
    "        templist=fread.read()\n",
    "        tempresult=mecab_extract(templist,obj)\n",
    "        print(obj+\"추출 완료\")\n",
    "        text=nltk.Text(tempresult,name=obj)\n",
    "        commons=text.vocab().most_common(500)\n",
    "        f = open(\"./Leisures/Description_Data_New/\"+obj+\".pkl\", 'wb')\n",
    "        pickle.dump(commons,f)\n",
    "        f.close()"
   ]
  },
  {
   "cell_type": "markdown",
   "metadata": {},
   "source": [
    "- 결과물 : 취미별로 상위 500개의 단어와 그 빈도가 저장되어 있는 pkl 파일 211개"
   ]
  },
  {
   "cell_type": "markdown",
   "metadata": {},
   "source": [
    "# 4. 온/오프라인 판별(K-Means Clustering)"
   ]
  },
  {
   "cell_type": "markdown",
   "metadata": {},
   "source": [
    "- 온/오프라인 판별을 위한 단어 결정을 위해 다음과 같은 단계를 통해 결정함"
   ]
  },
  {
   "cell_type": "markdown",
   "metadata": {},
   "source": [
    "1. **'비대면 취미/온라인 취미'와 '오프라인 취미/야외 취미'를 검색했을 때 나오는 키워드를 저장**\n",
    "  - 이때의 저장 방식은 지금까지의 텍스트 마이닝 작업과 동일\n",
    "  \n",
    "  \n",
    "2. 도출된 온/오프라인 단어별로 **상호간 존재하지 않는 단어를 서로의 키워드**로 지정\n",
    "\n",
    "\n",
    "3. 이외의 단어들을 찾아내기 위해 **온/오프라인 활동이 확실한 취미에 대해서 교차 확인**하는 방법으로 추가 키워드를 찾아냄\n",
    "  - 온라인 : 웹툰, 블로그 관리, SNS 등 / 오프라인 : 등산, 당구 참여, 풍경 관람 등\n",
    "  \n",
    "\n",
    "- 온라인 활동을 오프라인 활동으로 인식하는 오류보다(2종 오류), **오프라인 활동을 온라인 활동으로 인식하는 오류**(1종 오류)를 더 많이 잡아내기 위해 오프라인 키워드를 더 입력시킴\n",
    "\n",
    "\n",
    "- 결과적으로 **온라인 키워드 50개, 오프라인 키워드 60개가 도출됨**"
   ]
  },
  {
   "cell_type": "code",
   "execution_count": 64,
   "metadata": {},
   "outputs": [
    {
     "name": "stdout",
     "output_type": "stream",
     "text": [
      "50 60\n"
     ]
    }
   ],
   "source": [
    "online_keywords=['온라인', '혼자', '집', '통화', '유튜브','툰','소설','읽','문자','만들','관리','안정','신규',\n",
    "                 '채널', '휴대폰', '블로그', '잠', '티비', '관람','화면','영상','개인','명상','업데이트','보상',\n",
    "                '웹', '사이트', '간단', '홈', '중계', '시청','비대', '전화','미디어','쉬','간단','캐릭터','콘텐츠',\n",
    "                 '문자', '발송', '인터넷', '청취','셀프','페이스북','그램','팟캐스트','모바일','손','유저','스킬']\n",
    "offline_keywords=['오프라인', '공간', '곳', '길', '입장', '방문', '룸','호텔','도착','경주','건축','관람','방','층','타','들어가','레슨',\n",
    "                 '분위기', '여행', '관광', '지역', '시설', '출입', '모임','사람','느낌','전시','공연','데이트','훈련',\n",
    "                 '이용', '체육관', '공원', '풍경', '가족', '스포츠', '산','메이트','외식','테마','전시회','주민','선수','팀','경기',\n",
    "                  '수술','캠프','직관','관람객','예약','만나','코치','조','부','무대','걷','경기','대회','춤','사람']\n",
    "print(len(online_keywords), len(offline_keywords))"
   ]
  },
  {
   "cell_type": "markdown",
   "metadata": {},
   "source": [
    "- 온/오프라인별 주요 단어 추출을 위한 검색어 비교"
   ]
  },
  {
   "cell_type": "code",
   "execution_count": 65,
   "metadata": {},
   "outputs": [],
   "source": [
    "hobbysonoff=[]\n",
    "fread=open(\"./Leisures/Text/비대면_취미.txt\", 'r',encoding='UTF8')\n",
    "templist=fread.read()\n",
    "tempresult=mecab_extract(templist, \"비대면_취미\")\n",
    "text=nltk.Text(tempresult,name='비대면_취미')\n",
    "hobbysonoff.append(text.vocab().most_common(500))\n",
    "\n",
    "fread=open(\"./Leisures/Text/온라인_취미.txt\", 'r',encoding='UTF8')\n",
    "templist=fread.read()\n",
    "tempresult=mecab_extract(templist,\"온라인_취미\")\n",
    "text=nltk.Text(tempresult,name='온라인_취미')\n",
    "hobbysonoff.append(text.vocab().most_common(500))\n",
    "\n",
    "fread=open(\"./Leisures/Text/오프라인_취미.txt\", 'r',encoding='UTF8')\n",
    "templist=fread.read()\n",
    "tempresult=mecab_extract(templist,\"오프라인_취미\")\n",
    "text=nltk.Text(tempresult,name='오프라인_취미')\n",
    "hobbysonoff.append(text.vocab().most_common(500))\n",
    "\n",
    "fread=open(\"./Leisures/Text/야외_취미.txt\", 'r',encoding='UTF8')\n",
    "templist=fread.read()\n",
    "tempresult=mecab_extract(templist,\"야외_취미\")\n",
    "text=nltk.Text(tempresult,name='야외_취미')\n",
    "hobbysonoff.append(text.vocab().most_common(500))"
   ]
  },
  {
   "cell_type": "code",
   "execution_count": 66,
   "metadata": {},
   "outputs": [],
   "source": [
    "hobbylist=[]\n",
    "for row in hobbysonoff:\n",
    "    hobby=[]\n",
    "    for obj in row:\n",
    "        hobby.append(obj[0])\n",
    "    hobbylist.append(hobby)"
   ]
  },
  {
   "cell_type": "code",
   "execution_count": 67,
   "metadata": {},
   "outputs": [
    {
     "name": "stdout",
     "output_type": "stream",
     "text": [
      "['비대', '대면', '택트', '언', '단체', '화상', '보컬', '도서관', '출강', '줌', '진주', '사업', '봉사', '원예', '청소년', '오프라인', '목공', '지갑', '룻', '소통', '기술', '직업', '복지', '실시간', '마라톤', '도자기', '벨', '우드', '커스', '관', '카빙', '행사', '시스템', '개설', '연기', '투자', '심리', '초등', '도장', '어린이', '바느질', '개발', '검사', '대학교', '맞춤', '계획', '냅킨', '업체', '라이브', '아동', '농장', '자료', '계좌', '패턴', '페이퍼', '여성', '피', '기획', '협회', '드립니다', '꿈', '특강', '연락', '입시', '스마트폰', '재단', '속옷', '화면', '바랍니다', '어르신', '문자', '카톡', '수제', '이론', '도서', '대학', '기존', '마감', '인증', '시국', '전달', '설치', '테라', '해외', '죽공예', '확산', '진로', '조사', '경제', '카카오톡', '모두', '수다', '능력', '시설', '주식', '편집', '부천', '두기', '크리스마스', '대', '연구', '회의', '안정', '트렌드', '실습', '방향', '최대', '익숙', '비스킷', '오프라인', '마이비', '스킷', '프랑스', '비대', '강', '화면', '울산', '도안', '티', '보정', '굿', '리스', '코스터', '민화', '기획', '룸', '코드', '톡', '뿌듯', '무제한', '들으면서', '계발', '퀄리티', '경제', '짧', '프로젝트', '순', '줌', '소셜', '아이디', '펀치', '포인트', '피드백', '방구석', '익숙', '나만', '틀', '레진', '드립니다', '어스', '챙겨', '채색', '엮', '니들', '결과물', '캘', '즐겨', '카테고리', '나중', '브', '동물', '이것저것', '라인', '올려', '페이퍼', '채널', '인물화', '크리', '에이트', '마감', '응용', '혜택', '꼼꼼', '올리', '업계', '밀크', '위빙', '블', '다운', '언'] ['매장', '샵', '파티', '쇼핑', '브랜드', '동호회', '스토어', '뜨', '구경', '북', '킹', '전시', '아카데미', '용품', '솜씨', '기타', '미니', '스티커', '베이', '모드', '마켓', '비교', '아이템', '비', '배', '부업', '산', '매듭', '통신', '이러', '대부분', '유화', '클럽', '놀', '샀', '주변', '불가', '소비', '갔', '사이', '성공', '급', '대화', '화실', '발', '타', '고급', '입문', '서점', '마케팅', '골프', '비슷', '깔끔', '화실', '날씨', '실내', '골프', '등산', '타', '웨딩', '자전거', '야구', '풍경', '유화', '부케', '가을', '댄스', '미니', '공원', '꽃집', '낚시', '갔', '산', '산책', '드론', '넓', '시원', '보드', '스냅', '장비', '비', '테이블', '카메라', '앉', '바람', '놀', '배', '주변', '치', '일반', '착용', '밤', '딩', '기타', '소재', '강남', '불가', '용품', '광주', '걸', '하우스', '크기', '결혼식', '느껴', '걷', '목', '아빠', '조절', '프로필', '코스', '테니스', '필수', '대전', '도도', '빛', '남자', '어떨까', '아침', '가볍', '추억', '구경', '마시', '클럽', '조명', '좋아하', '음식', '맛집', '숲', '화분', '선글라스', '갈', '쉬', '텃밭', '낮', '대부분', '심', '파티', '모델', '칼림바', '브랜드', '동네', '전시', '십자수', '피부', '창원', '비교', '땐', '오랜만', '깔끔', '하늘', '순간', '옷', '렌즈', '필라', '바다', '건물', '꽃다발', '머리', '불', '샷', '색상', '존', '캔버스', '안경', '캐', '밝', '신기', '테라스', '경기도', '보석', '불편', '근처', '신경', '핫', '땀', '즐거움', '형태', '어울리', '사이', '여자', '동호회', '빵', '아이템', '신', '아기']\n"
     ]
    }
   ],
   "source": [
    "onlinelist=hobbylist[0]+hobbylist[1]\n",
    "offlinelist=hobbylist[2]+hobbylist[3]\n",
    "online=[]#온라인 키워드에만 있는 단어가 이곳으로 저장됨\n",
    "offline=[]#오프라인 키워드에만 있는 단어가 이곳으로 저장됨\n",
    "for obj in onlinelist:\n",
    "    if obj not in offlinelist:\n",
    "        online.append(obj)\n",
    "for obj in offlinelist:\n",
    "    if obj not in onlinelist:\n",
    "        offline.append(obj)\n",
    "print(online, offline)"
   ]
  },
  {
   "cell_type": "markdown",
   "metadata": {},
   "source": [
    "- 각 여가 활동마다의 오프라인 단어 빈도, 온라인 단어 빈도를 알아보자"
   ]
  },
  {
   "cell_type": "code",
   "execution_count": 65,
   "metadata": {},
   "outputs": [
    {
     "data": {
      "text/plain": [
       "[[12317, 2705],\n",
       " [14367, 3312],\n",
       " [12002, 3515],\n",
       " [14604, 3838],\n",
       " [14879, 2887],\n",
       " [14693, 1959],\n",
       " [16374, 1986],\n",
       " [20265, 2977],\n",
       " [14022, 3066],\n",
       " [14118, 2290],\n",
       " [11801, 2232],\n",
       " [7906, 2691],\n",
       " [4768, 2300],\n",
       " [8827, 1844],\n",
       " [7353, 2548],\n",
       " [5140, 2111],\n",
       " [7664, 4295],\n",
       " [4179, 1912],\n",
       " [6797, 6814],\n",
       " [7258, 4458],\n",
       " [10929, 3314],\n",
       " [11636, 4656],\n",
       " [9854, 5715],\n",
       " [11334, 4938],\n",
       " [7071, 6960],\n",
       " [10225, 3936],\n",
       " [2732, 969],\n",
       " [9335, 2826],\n",
       " [10014, 2125],\n",
       " [5757, 2133],\n",
       " [13524, 2660],\n",
       " [12572, 2364],\n",
       " [6012, 2977],\n",
       " [10473, 2307],\n",
       " [16619, 3182],\n",
       " [9798, 3235],\n",
       " [11266, 2406],\n",
       " [11202, 2591],\n",
       " [25409, 2693],\n",
       " [20479, 2791],\n",
       " [31737, 3575],\n",
       " [46574, 6096],\n",
       " [13173, 4282],\n",
       " [11675, 4134],\n",
       " [21993, 9494],\n",
       " [14994, 7876],\n",
       " [19091, 2416],\n",
       " [21145, 3623],\n",
       " [61251, 19637],\n",
       " [52984, 10946],\n",
       " [22096, 3950],\n",
       " [26033, 6231],\n",
       " [16358, 1426],\n",
       " [21348, 1714],\n",
       " [17719, 1198],\n",
       " [13296, 932],\n",
       " [12992, 1187],\n",
       " [13584, 1862],\n",
       " [15974, 3119],\n",
       " [13561, 1700],\n",
       " [15852, 3476],\n",
       " [6347, 1492],\n",
       " [13732, 1751],\n",
       " [10148, 2626],\n",
       " [10140, 2055],\n",
       " [19060, 2127],\n",
       " [19024, 2777],\n",
       " [14037, 2712],\n",
       " [13600, 1969],\n",
       " [14311, 1845],\n",
       " [11578, 2011],\n",
       " [11744, 2027],\n",
       " [18211, 2428],\n",
       " [17263, 1590],\n",
       " [4646, 4505],\n",
       " [14156, 2403],\n",
       " [6801, 1343],\n",
       " [5754, 3384],\n",
       " [9123, 4174],\n",
       " [17061, 4968],\n",
       " [12929, 1236],\n",
       " [4415, 1765],\n",
       " [12155, 5458],\n",
       " [3483, 3554],\n",
       " [9309, 2992],\n",
       " [17006, 1376],\n",
       " [9420, 3962],\n",
       " [18981, 6615],\n",
       " [7244, 1655],\n",
       " [18230, 1863],\n",
       " [5431, 1209],\n",
       " [10014, 1387],\n",
       " [12095, 3371],\n",
       " [8368, 1913],\n",
       " [15880, 2762],\n",
       " [8851, 1837],\n",
       " [11981, 4486],\n",
       " [31101, 12492],\n",
       " [13843, 2540],\n",
       " [10475, 2365],\n",
       " [8737, 1979],\n",
       " [10326, 1879],\n",
       " [12012, 1535],\n",
       " [13450, 2903],\n",
       " [33431, 6090],\n",
       " [6848, 4253],\n",
       " [15764, 2365],\n",
       " [24571, 2753],\n",
       " [16476, 2638],\n",
       " [8071, 2129],\n",
       " [11778, 3086],\n",
       " [15871, 2960],\n",
       " [7727, 4453],\n",
       " [6162, 1411],\n",
       " [18185, 2202],\n",
       " [8613, 1829],\n",
       " [12924, 1496],\n",
       " [21148, 3917],\n",
       " [20411, 3197],\n",
       " [12517, 2814],\n",
       " [15005, 2514],\n",
       " [14261, 2275],\n",
       " [8119, 2156],\n",
       " [3223, 2170],\n",
       " [3669, 3267],\n",
       " [2392, 5482],\n",
       " [2095, 9192],\n",
       " [3058, 9161],\n",
       " [3498, 3205],\n",
       " [1973, 5478],\n",
       " [5787, 2756],\n",
       " [4260, 4051],\n",
       " [5144, 3147],\n",
       " [12616, 4018],\n",
       " [3516, 1782],\n",
       " [14471, 2347],\n",
       " [3107, 770],\n",
       " [2196, 6172],\n",
       " [3988, 4672],\n",
       " [1372, 1878],\n",
       " [3720, 14315],\n",
       " [6025, 9837],\n",
       " [4264, 14416],\n",
       " [4878, 14906],\n",
       " [2903, 6358],\n",
       " [6169, 4390],\n",
       " [2601, 4166],\n",
       " [1316, 1648],\n",
       " [4522, 3014],\n",
       " [3045, 2642],\n",
       " [4913, 3171],\n",
       " [10493, 2025],\n",
       " [7041, 1425],\n",
       " [2013, 3117],\n",
       " [3345, 2333],\n",
       " [3553, 2609],\n",
       " [3633, 2834],\n",
       " [5658, 3912],\n",
       " [8624, 3880],\n",
       " [4965, 1775],\n",
       " [6701, 9682],\n",
       " [2928, 20190],\n",
       " [3113, 3472],\n",
       " [2493, 4422],\n",
       " [10589, 21527],\n",
       " [3437, 8271],\n",
       " [5240, 4561],\n",
       " [10683, 7299],\n",
       " [9027, 3070],\n",
       " [3735, 3087],\n",
       " [2521, 3999],\n",
       " [3640, 4846],\n",
       " [25700, 2291],\n",
       " [10815, 2776],\n",
       " [7848, 2238],\n",
       " [4256, 4334],\n",
       " [1713, 1542],\n",
       " [14621, 2635],\n",
       " [16689, 2371],\n",
       " [2916, 3792],\n",
       " [14339, 2998],\n",
       " [11935, 3269],\n",
       " [2826, 4770],\n",
       " [2996, 6937],\n",
       " [2857, 9049],\n",
       " [1966, 6221],\n",
       " [2656, 3819],\n",
       " [2943, 5083],\n",
       " [3276, 2968],\n",
       " [2118, 2503],\n",
       " [2821, 3856],\n",
       " [3432, 3518],\n",
       " [4139, 1485],\n",
       " [4960, 1925],\n",
       " [9457, 2504],\n",
       " [8383, 3835],\n",
       " [5530, 1645],\n",
       " [18857, 4087],\n",
       " [6272, 2202],\n",
       " [10595, 4092],\n",
       " [3649, 3848],\n",
       " [3012, 10850],\n",
       " [3781, 15680],\n",
       " [7994, 2233],\n",
       " [5369, 1545],\n",
       " [10051, 2095],\n",
       " [5263, 2507],\n",
       " [4556, 1616],\n",
       " [7493, 3346],\n",
       " [13458, 2582],\n",
       " [4909, 1958]]"
      ]
     },
     "execution_count": 65,
     "metadata": {},
     "output_type": "execute_result"
    }
   ],
   "source": [
    "onoff=[]\n",
    "for row in leisure_dict_search:\n",
    "    for obj in row:\n",
    "        fread=open(\"./Leisures/Description_Data_New/\"+obj+\".pkl\", 'rb')\n",
    "        templist=pickle.load(fread)\n",
    "        offlinecnt=0\n",
    "        onlinecnt=0\n",
    "        for cnt in templist:\n",
    "            if cnt[0] in offline_keywords:\n",
    "                offlinecnt+=cnt[1]\n",
    "            elif cnt[0] in online_keywords:\n",
    "                onlinecnt+=cnt[1]\n",
    "        onoff.append([offlinecnt,onlinecnt])\n",
    "        fread.close()\n",
    "onoff"
   ]
  },
  {
   "cell_type": "markdown",
   "metadata": {},
   "source": [
    "- 데이터가 많은 값에 대해서 rescaling 진행\n",
    "  - 각 좌표의 최대값을 20000으로 고정"
   ]
  },
  {
   "cell_type": "code",
   "execution_count": 66,
   "metadata": {},
   "outputs": [],
   "source": [
    "for obj in onoff:\n",
    "    if obj[0]>=20000:\n",
    "        ratio=obj[0]/20000\n",
    "        obj[0]=obj[0]/ratio\n",
    "        obj[1]=obj[1]/ratio\n",
    "    if obj[1]>=20000:\n",
    "        ratio=obj[1]/20000\n",
    "        obj[0]=obj[0]/ratio\n",
    "        obj[1]=obj[1]/ratio"
   ]
  },
  {
   "cell_type": "code",
   "execution_count": 67,
   "metadata": {},
   "outputs": [
    {
     "data": {
      "image/png": "[encoded data removed]",
      "text/plain": [
       "<Figure size 432x288 with 1 Axes>"
      ]
     },
     "metadata": {
      "needs_background": "light"
     },
     "output_type": "display_data"
    }
   ],
   "source": [
    "#데이터프레임 생성 후 좌표 출력\n",
    "a=np.array(onoff)\n",
    "sampledf=pd.DataFrame(data=a[:,0],columns=['Offline'])\n",
    "sampledf['Online']=a[:,1]\n",
    "plt.scatter(\n",
    "   a[:, 0], a[:, 1],\n",
    "   c='white', marker='o',\n",
    "   edgecolor='black', s=20\n",
    ")\n",
    "plt.xlabel(\"Offline\")\n",
    "plt.ylabel(\"Online\")\n",
    "plt.show()"
   ]
  },
  {
   "cell_type": "markdown",
   "metadata": {},
   "source": [
    "- 이렇게 생성된 리스트를 바탕으로 온/오프라인 여부 비교\n",
    "- 온/오프라인의 군집화 형성을 위해 K-Means Clustering 진행\n",
    "  - 최적의 K값을 도출해내기 위해 Elbow Method를 먼저 진행해보기로 함\n",
    "- 여기서의 x좌표 : offline 단어 빈도 수, y좌표 : online 단어 빈도 수임"
   ]
  },
  {
   "cell_type": "code",
   "execution_count": 68,
   "metadata": {},
   "outputs": [
    {
     "data": {
      "image/png": "[encoded data removed]",
      "text/plain": [
       "<Figure size 432x288 with 1 Axes>"
      ]
     },
     "metadata": {
      "needs_background": "light"
     },
     "output_type": "display_data"
    }
   ],
   "source": [
    "distortions = []\n",
    "for i in range(1, 11):\n",
    "    km = KMeans(\n",
    "        n_clusters=i, init='random',\n",
    "        n_init=10, max_iter=300,\n",
    "        tol=1e-04, random_state=0\n",
    "    )\n",
    "    km.fit(a)\n",
    "    distortions.append(km.inertia_)\n",
    "\n",
    "# plot\n",
    "plt.plot(range(1, 11), distortions, marker='o')\n",
    "plt.xlabel('Number of clusters')\n",
    "plt.ylabel('Distortion')\n",
    "plt.show()"
   ]
  },
  {
   "cell_type": "markdown",
   "metadata": {},
   "source": [
    "- 분산이 4에서 완만해지는 것을 확인할 수 있다.\n",
    "- 따라서 K의 값을 4로 지정하고 Clustering 진행"
   ]
  },
  {
   "cell_type": "code",
   "execution_count": 81,
   "metadata": {},
   "outputs": [
    {
     "name": "stderr",
     "output_type": "stream",
     "text": [
      "C:\\Users\\mitha\\anaconda3\\envs\\mining\\lib\\site-packages\\sklearn\\cluster\\_kmeans.py:974: FutureWarning: 'n_jobs' was deprecated in version 0.23 and will be removed in 0.25.\n",
      "  \" removed in 0.25.\", FutureWarning)\n",
      "C:\\Users\\mitha\\anaconda3\\envs\\mining\\lib\\site-packages\\sklearn\\cluster\\_kmeans.py:974: FutureWarning: 'n_jobs' was deprecated in version 0.23 and will be removed in 0.25.\n",
      "  \" removed in 0.25.\", FutureWarning)\n"
     ]
    }
   ],
   "source": [
    "km=KMeans(n_clusters=4,n_jobs=5,random_state=1)\n",
    "km.fit(onoff)\n",
    "y_km=km.fit_predict(a)"
   ]
  },
  {
   "cell_type": "code",
   "execution_count": 82,
   "metadata": {},
   "outputs": [
    {
     "data": {
      "text/plain": [
       "array([1, 1, 1, 1, 1, 1, 2, 2, 1, 1, 1, 0, 0, 1, 0, 0, 0, 0, 0, 0, 1, 1,\n",
       "       1, 1, 0, 1, 0, 1, 1, 0, 1, 1, 0, 1, 2, 1, 1, 1, 2, 2, 2, 2, 1, 1,\n",
       "       2, 2, 2, 2, 2, 2, 2, 2, 2, 2, 2, 1, 1, 1, 2, 1, 2, 0, 1, 1, 1, 2,\n",
       "       2, 1, 1, 1, 1, 1, 2, 2, 0, 1, 0, 0, 1, 2, 1, 0, 1, 0, 1, 2, 1, 2,\n",
       "       0, 2, 0, 1, 1, 1, 2, 1, 1, 2, 1, 1, 1, 1, 1, 1, 2, 0, 2, 2, 2, 1,\n",
       "       1, 2, 0, 0, 2, 1, 1, 2, 2, 1, 1, 1, 1, 0, 0, 0, 3, 3, 0, 0, 0, 0,\n",
       "       0, 1, 0, 1, 0, 0, 0, 0, 3, 3, 3, 3, 0, 0, 0, 0, 0, 0, 0, 1, 0, 0,\n",
       "       0, 0, 0, 0, 1, 0, 3, 3, 0, 0, 3, 3, 0, 1, 1, 0, 0, 0, 2, 1, 0, 0,\n",
       "       0, 1, 2, 0, 1, 1, 0, 0, 3, 0, 0, 0, 0, 0, 0, 0, 0, 0, 1, 1, 0, 2,\n",
       "       0, 1, 0, 3, 3, 0, 0, 1, 0, 0, 0, 1, 0])"
      ]
     },
     "execution_count": 82,
     "metadata": {},
     "output_type": "execute_result"
    }
   ],
   "source": [
    "y_km"
   ]
  },
  {
   "cell_type": "code",
   "execution_count": 83,
   "metadata": {},
   "outputs": [
    {
     "data": {
      "image/png": "[encoded data removed]",
      "text/plain": [
       "<Figure size 432x288 with 1 Axes>"
      ]
     },
     "metadata": {
      "needs_background": "light"
     },
     "output_type": "display_data"
    }
   ],
   "source": [
    "plt.scatter(\n",
    "    a[y_km == 0, 0], a[y_km == 0, 1],\n",
    "    s=50, c='lightgreen',\n",
    "    marker='v', edgecolor='black',\n",
    "    label='cluster 1'\n",
    ")\n",
    "\n",
    "plt.scatter(\n",
    "    a[y_km == 1, 0], a[y_km == 1, 1],\n",
    "    s=50, c='orange',\n",
    "    marker='v', edgecolor='black',\n",
    "    label='cluster 2'\n",
    ")\n",
    "\n",
    "plt.scatter(\n",
    "    a[y_km == 2, 0], a[y_km == 2, 1],\n",
    "    s=50, c='lightblue',\n",
    "    marker='v', edgecolor='black',\n",
    "    label='cluster 3'\n",
    ")\n",
    "\n",
    "plt.scatter(\n",
    "    a[y_km == 3, 0], a[y_km == 3, 1],\n",
    "    s=50, c='red',\n",
    "    marker='v', edgecolor='black',\n",
    "    label='cluster 4'\n",
    ")\n",
    "\n",
    "\n",
    "\n",
    "# plot the centroids\n",
    "plt.scatter(\n",
    "    km.cluster_centers_[:, 0], km.cluster_centers_[:, 1],\n",
    "    s=250, marker='*',\n",
    "    c='red', edgecolor='black',\n",
    "    label='centroids'\n",
    ")\n",
    "plt.xlabel(\"Offline\")\n",
    "plt.ylabel(\"Online\")\n",
    "plt.legend(scatterpoints=1)\n",
    "plt.grid()\n",
    "plt.show()"
   ]
  },
  {
   "cell_type": "markdown",
   "metadata": {},
   "source": [
    "- cluster 1 : 온/오프라인 데이터가 고르게 분포되어 있는 경우 - **하이브리드로 판단**\n",
    "- cluster 2,3 : 오프라인 단어 빈도 수가 더 많이 분포되어 있는 경우 - **오프라인으로 판단**\n",
    "- cluster 4 : 온라인 단어 빈도 수가 더 많이 분포되어 있는 경우 - **온라인으로 판단**"
   ]
  },
  {
   "cell_type": "markdown",
   "metadata": {},
   "source": [
    "- 결과 또한 pickle 파일로 저장하도록 함"
   ]
  },
  {
   "cell_type": "code",
   "execution_count": 12,
   "metadata": {},
   "outputs": [],
   "source": [
    "f = open(\"./Leisures/Description_Data_New/onoffdatas.pkl\", 'wb')\n",
    "pickle.dump(y_km,f)\n",
    "f.close()"
   ]
  },
  {
   "cell_type": "markdown",
   "metadata": {},
   "source": [
    "# 5. TF-IDF 시행"
   ]
  },
  {
   "cell_type": "markdown",
   "metadata": {},
   "source": [
    "- 여가 활동별 주요단어 250개를 이용하여 상호간 TF-IDF 시행\n",
    "- sklearn을 사용하기 위해 단어+빈도로 저장되어 있는 튜플을 문자열로 재구성 후 상관도 분석"
   ]
  },
  {
   "cell_type": "code",
   "execution_count": null,
   "metadata": {},
   "outputs": [],
   "source": [
    "reconfig=[]\n",
    "for row in leisure_dict_search:\n",
    "    for obj in row:\n",
    "        fread=open(\"./Leisures/Description_Data_New/\"+obj+\".pkl\", 'rb')\n",
    "        templist=pickle.load(fread)\n",
    "        fread.close()\n",
    "        templist=templist[:250]#상위단어 250개만 사용함\n",
    "        tempstring=\"\"\n",
    "        for index in templist:\n",
    "            for i in range(index[1]):\n",
    "                tempstring=tempstring+index[0]+\" \" \n",
    "        reconfig.append(tempstring)"
   ]
  },
  {
   "cell_type": "markdown",
   "metadata": {},
   "source": [
    "- 결과물 : reconfig 안에 취미별로 재구성된 문자열이 저장되어있음"
   ]
  },
  {
   "cell_type": "code",
   "execution_count": null,
   "metadata": {},
   "outputs": [],
   "source": [
    "#tf-idf\n",
    "tfidf_vectorizer = TfidfVectorizer()\n",
    "tfidf_matrix = tfidf_vectorizer.fit_transform(reconfig)\n",
    "doc_nouns_similarities = (tfidf_matrix * tfidf_matrix.T)\n",
    "\n",
    "print(doc_nouns_similarities.toarray())"
   ]
  },
  {
   "cell_type": "code",
   "execution_count": null,
   "metadata": {},
   "outputs": [],
   "source": [
    "#빠른 불러오기를 위해 상관도를 pickle 파일로 저장함\n",
    "f = open(\"./Leisures/Description_Data_New/correlation.pkl\", 'wb')\n",
    "pickle.dump(doc_nouns_similarities.toarray(),f)\n",
    "f.close()#상관도 저장"
   ]
  },
  {
   "cell_type": "markdown",
   "metadata": {},
   "source": [
    "# 6. 가중치 부여"
   ]
  },
  {
   "cell_type": "markdown",
   "metadata": {},
   "source": [
    "- 사전에 입력해놓은 평일/휴일별 여가활동 유형을 Dataframe으로 저장"
   ]
  },
  {
   "cell_type": "code",
   "execution_count": 16,
   "metadata": {},
   "outputs": [],
   "source": [
    "weekday=pd.read_csv('./Leisures/CSV_Data/평일_여가활동_유형.csv',encoding='CP949')\n",
    "weekend=pd.read_csv('./Leisures/CSV_Data/휴일_여가활동_유형.csv',encoding='CP949')\n",
    "weekday=weekday.set_index('구분')\n",
    "weekend=weekend.set_index('구분')"
   ]
  },
  {
   "cell_type": "code",
   "execution_count": 17,
   "metadata": {},
   "outputs": [],
   "source": [
    "#지금껏 구한 상관도 불러오기\n",
    "fread=open(\"./Leisures/Description_Data_New/correlation.pkl\", 'rb')\n",
    "colarray=pickle.load(fread)\n",
    "\n",
    "#데이터프레임 제작을 위한 컬럼 생성\n",
    "columns=[[],[]]\n",
    "for index,row in enumerate(leisure_dict_search):\n",
    "    for obj in row:\n",
    "        columns[0].append(big_cat[index])\n",
    "        columns[1].append(obj)\n",
    "        \n",
    "#상관도+컬럼 기반으로 데이터프레임 생성\n",
    "correlation=pd.DataFrame(colarray,columns=columns,index=columns)\n",
    "\n",
    "#올바른 값 도출을 위해 각 대각값을 0으로 변경\n",
    "for index,row in enumerate(leisure_dict_search):\n",
    "    for obj in row:\n",
    "        correlation[big_cat[index],obj].loc[big_cat[index],obj]=0 #각 대각값을 0으로 변경"
   ]
  },
  {
   "cell_type": "markdown",
   "metadata": {},
   "source": [
    "- 결과물 : 각 취미에 대한 상관도가 들어있는 DataFrame. 이때의 각 대각값은 0으로 세팅되어있음"
   ]
  },
  {
   "cell_type": "markdown",
   "metadata": {},
   "source": [
    "### 가중치 산정 방식\n",
    "  - 사용자에게 최소 1개, 최대 3개의 여가 활동 + 성별 + 연령대 + 주말/휴일 여부를 물어본다.\n",
    "  - 각 여가 활동별로 **상위 5개 상관도에 1.5, 1.4, 1.3, 1.2, 1.1의 가중치**를 부여\n",
    "  - 해당되는 주말/휴일 그래프 중 성별별 활동 카테고리에 다음을 부여\n",
    "    - **1-2등 활동에 1.2 가중치, 3-4등 활동에 1.1 가중치, 그 외의 등수 중 50%미만인 활동은 0.9**를 부여\n",
    "  - 해당되는 주말/휴일 그래프 중 연령별 활동 카테고리에 다음을 부여\n",
    "    - **1-2등 활동에 1.2 가중치, 3-4등 활동에 1.1 가중치, 그 외의 등수 중 50%미만인 활동은 0.9**를 부여\n",
    "  - 만들어진 상관도 표를 통해 **온라인 별, 오프라인 별, 온/오프라인 별, 여가유형별 상위 활동을 출력**한다."
   ]
  },
  {
   "cell_type": "code",
   "execution_count": 18,
   "metadata": {},
   "outputs": [],
   "source": [
    "def weight_cal(correlation, list_, df):\n",
    "    for key,value in enumerate(list_):\n",
    "        weight=1\n",
    "        if key<2:\n",
    "            weight=1.2\n",
    "        elif key<4:\n",
    "            weight=1.1\n",
    "        elif df[value]<50:\n",
    "            weight=0.9\n",
    "        correlation[value]=correlation[value].apply(lambda x:x*weight)\n",
    "\n",
    "def week_type(week):#1이 주말, 2가 평일. 데이터프레임 반환\n",
    "    if week==\"1\" or week==\"주말\":\n",
    "        return weekend\n",
    "    elif week==\"2\" or week==\"평일\":\n",
    "        return weekday\n",
    "    return False\n",
    "        \n",
    "def sex_type(correlation, sex, week):\n",
    "    list_=[]\n",
    "    if sex==\"1\" or sex==\"남성\":#남성을 입력받음\n",
    "        sexdf=week.loc['남성'].sort_values(ascending=False)\n",
    "    elif sex==\"2\" or sex==\"여성\":#여성을 입력받음\n",
    "        sexdf=week.loc['여성'].sort_values(ascending=False)\n",
    "    elif sex==\"3\" or sex==\"패스\":#입력을 원하지 않음\n",
    "        return \n",
    "    else: #잘못된 값\n",
    "        return False\n",
    "    list_=list(sexdf.index)\n",
    "    weight_cal(correlation, list_, sexdf)\n",
    "        \n",
    "def age_type(correlation, age, week):\n",
    "    list_=[]\n",
    "    if age==\"1\" or age=='10대':\n",
    "        agedf=week.loc['15-19세'].sort_values(ascending=False)\n",
    "    elif age==\"2\" or age=='20대':\n",
    "        agedf=week.loc['20대'].sort_values(ascending=False)\n",
    "    elif age==\"3\" or age=='30대':\n",
    "        agedf=week.loc['30대'].sort_values(ascending=False)\n",
    "    elif age==\"4\" or age=='40대':\n",
    "        agedf=week.loc['40대'].sort_values(ascending=False)\n",
    "    elif age==\"5\" or age=='50대':\n",
    "        agedf=week.loc['50대'].sort_values(ascending=False)\n",
    "    elif age==\"6\" or age=='60대':\n",
    "        agedf=week.loc['60대'].sort_values(ascending=False)\n",
    "    elif age==\"7\" or age=='70대이상':\n",
    "        agedf=week.loc['70대이상'].sort_values(ascending=False)\n",
    "    elif age==\"8\" or age=='패스':#입력을 원하지 않음\n",
    "        return\n",
    "    else: #잘못된 값\n",
    "        return False\n",
    "    list_=list(agedf.index)\n",
    "    weight_cal(correlation, list_, agedf)\n",
    "\n",
    "def prefer_weight(correlation):\n",
    "    for i,obj in enumerate(correlation.columns[:-1]):\n",
    "        correlation=correlation.sort_values(by=obj, ascending=False)\n",
    "        correlation.iloc[0,i]=correlation.iloc[0,i]*1.5\n",
    "        correlation.iloc[1,i]=correlation.iloc[1,i]*1.4\n",
    "        correlation.iloc[2,i]=correlation.iloc[2,i]*1.3\n",
    "        correlation.iloc[3,i]=correlation.iloc[3,i]*1.2\n",
    "        correlation.iloc[4,i]=correlation.iloc[4,i]*1.1\n",
    "    return correlation"
   ]
  },
  {
   "cell_type": "code",
   "execution_count": 61,
   "metadata": {},
   "outputs": [],
   "source": [
    "def choose_prefer():\n",
    "    print(\"최소 1개, 최대 3개의 취미를 입력받습니다.\")\n",
    "    prefer_list=[]\n",
    "    flag1=False\n",
    "    cat1i=[\"1\",\"2\",\"3\",\"4\",\"5\",\"6\",\"7\",\"8\"]\n",
    "    while flag1 is False:\n",
    "        if len(prefer_list)==3:\n",
    "            break\n",
    "        str1=\"\"\n",
    "        for i in range(8):\n",
    "            print(cat1i[i]+\". \"+big_cat[i])\n",
    "        print(\"9. 그만 입력하기\")\n",
    "        prefer=input(\"취미의 카테고리를 입력해주세요 : \")\n",
    "        if (prefer in cat1i) or (prefer in big_cat):\n",
    "            flag1=True\n",
    "            if(prefer in cat1i):\n",
    "                i=int(prefer)-1\n",
    "                str1=big_cat[i]\n",
    "            else:\n",
    "                i=big_cat.index(prefer)\n",
    "                str1=prefer\n",
    "            str2=\"\"\n",
    "            flag2=False\n",
    "            cat2=leisure_dict_search[i]\n",
    "            cat2i=[]\n",
    "            os.system('cls')\n",
    "            for i,obj in enumerate(cat2):\n",
    "                cat2i.append(str(i+1))\n",
    "                cat2[i]=obj.replace(\"_\",\" \")\n",
    "                print(cat2i[i]+\". \"+cat2[i])\n",
    "            while flag2 is False:#취미의 세부 카테고리 입력\n",
    "                prefer2=input(\"취미의 세부 카테고리를 입력해주세요 : \")\n",
    "                if (prefer2 in cat2) or (prefer2 in cat2i):\n",
    "                    flag2=True\n",
    "                    flag1=False\n",
    "                    if(prefer2 in cat2i):\n",
    "                        str2=cat2[int(prefer2)-1].replace(\" \",\"_\")\n",
    "                    else:\n",
    "                        str2=prefer2.replace(\" \",\"_\")\n",
    "                    os.system('cls')\n",
    "                else:\n",
    "                    print(\"잘못된 입력입니다.\")#세부 카테고리 입력 종료\n",
    "            prefer_list.append([str1,str2])\n",
    "            print(str(len(prefer_list))+\"번째 취미 입력이 완료되었습니다.\")\n",
    "        elif prefer==\"9\" or prefer==\"그만 입력하기\":\n",
    "            if len(prefer_list)<1:\n",
    "                print(\"취미는 적어도 하나 이상 입력되어야 합니다.\")\n",
    "                os.system('cls')\n",
    "            else:\n",
    "                break\n",
    "        else:\n",
    "            print(\"잘못된 입력입니다.\")\n",
    "            os.system('cls')\n",
    "    return prefer_list"
   ]
  },
  {
   "cell_type": "code",
   "execution_count": 103,
   "metadata": {},
   "outputs": [],
   "source": [
    "#사용자 전용 복제품 생성\n",
    "rep_correlation=correlation.copy()"
   ]
  },
  {
   "cell_type": "markdown",
   "metadata": {},
   "source": [
    "### 사용자 입력 받아보기"
   ]
  },
  {
   "cell_type": "code",
   "execution_count": 104,
   "metadata": {
    "scrolled": true
   },
   "outputs": [
    {
     "name": "stdout",
     "output_type": "stream",
     "text": [
      "해당되는 항목들을 입력해주세요.\n",
      "단 아무것도 해당되지 않을 경우, 또는 원하지 않을 경우 '패스'를 입력해주세요.\n",
      "1. 주말\n",
      "2. 평일\n",
      "어느 날에 취미를 가지실건가요? : 1\n",
      "1. 남성\n",
      "2. 여성\n",
      "3. 패스\n",
      "성별을 입력해주세요 : 2\n",
      "1. 10대\n",
      "2. 20대\n",
      "3. 30대\n",
      "4. 40대\n",
      "5. 50대\n",
      "6. 60대\n",
      "7. 70대이상\n",
      "8. 패스\n",
      "나이를 입력해주세요 : 2\n",
      "최소 1개, 최대 3개의 취미를 입력받습니다.\n",
      "1. 문화예술관람활동\n",
      "2. 문화예술참여활동\n",
      "3. 스포츠관람활동\n",
      "4. 스포츠참여활동\n",
      "5. 관광활동\n",
      "6. 취미/오락활동\n",
      "7. 휴식활동\n",
      "8. 사회/기타활동\n",
      "9. 그만 입력하기\n",
      "취미의 카테고리를 입력해주세요 : 6\n",
      "1. 콜렉션\n",
      "2. 스크랩북\n",
      "3. 십자수\n",
      "4. 비즈공예\n",
      "5. DIY\n",
      "6. 꽃꽂이\n",
      "7. 요리하기\n",
      "8. 다도\n",
      "9. 반려동물 키우기\n",
      "10. 노래방 가기\n",
      "11. 집 인테리어\n",
      "12. 자동차 인테리어\n",
      "13. 등산\n",
      "14. 낚시\n",
      "15. 홈페이지 관리\n",
      "16. 블로그 관리\n",
      "17. 인터넷 검색\n",
      "18. 1인 미디어 제작\n",
      "19. SNS\n",
      "20. 온라인 게임\n",
      "21. 모바일 게임\n",
      "22. 콘솔 게임\n",
      "23. 보드게임\n",
      "24. 퍼즐\n",
      "25. 큐브 맞추기\n",
      "26. 바둑\n",
      "27. 장기\n",
      "28. 체스\n",
      "29. 경마\n",
      "30. 경륜\n",
      "31. 카드놀이\n",
      "32. 고스톱\n",
      "33. 마작\n",
      "34. 복권구입\n",
      "35. 쇼핑\n",
      "36. 외식\n",
      "37. 음주\n",
      "38. 독서\n",
      "39. 웹소설\n",
      "40. 만화보기\n",
      "41. 웹툰보기\n",
      "42. 피부관리\n",
      "43. 헤어관리\n",
      "44. 네일아트\n",
      "45. 마사지\n",
      "46. 성형\n",
      "47. 어학 공부\n",
      "48. 기술 공부\n",
      "49. 자격증 공부\n",
      "50. 방탈출 카페 체험\n",
      "51. VR 카페 체험\n",
      "52. 낚시카페 체험\n",
      "53. 원예\n",
      "54. 화단 가꾸기\n",
      "취미의 세부 카테고리를 입력해주세요 : 44\n",
      "1번째 취미 입력이 완료되었습니다.\n",
      "1. 문화예술관람활동\n",
      "2. 문화예술참여활동\n",
      "3. 스포츠관람활동\n",
      "4. 스포츠참여활동\n",
      "5. 관광활동\n",
      "6. 취미/오락활동\n",
      "7. 휴식활동\n",
      "8. 사회/기타활동\n",
      "9. 그만 입력하기\n",
      "취미의 카테고리를 입력해주세요 : 9\n"
     ]
    }
   ],
   "source": [
    "#주말/휴일 여부 판단\n",
    "flag=False\n",
    "week_list=[\"1\",\"2\"]\n",
    "week_str=[\"주말\",\"평일\"]\n",
    "print(\"해당되는 항목들을 입력해주세요.\")\n",
    "print(\"단 아무것도 해당되지 않을 경우, 또는 원하지 않을 경우 '패스'를 입력해주세요.\")\n",
    "for i in range(2):\n",
    "    print(week_list[i]+\". \"+week_str[i])\n",
    "while flag is False:\n",
    "    week=input(\"어느 날에 취미를 가지실건가요? : \")\n",
    "    if (week in week_list) or (week in week_str):\n",
    "        weekdf=week_type(week)\n",
    "        flag=True\n",
    "    else:\n",
    "        print(\"잘못된 입력입니다.\")\n",
    "\n",
    "#여자/남자 여부 판단\n",
    "flag=False\n",
    "sex_list=[\"1\",\"2\",\"3\"]\n",
    "sex_str=[\"남성\",\"여성\",\"패스\"]\n",
    "for i in range(3):\n",
    "    print(sex_list[i]+\". \"+sex_str[i])\n",
    "while flag is False:\n",
    "    sex=input(\"성별을 입력해주세요 : \")\n",
    "    if (sex in sex_list) or (sex in sex_str):\n",
    "        flag=True\n",
    "        sex_type(rep_correlation, sex, weekdf)\n",
    "    else:\n",
    "        print(\"잘못된 입력입니다.\")\n",
    "        \n",
    "#나이대 여부 판단\n",
    "flag=False\n",
    "age_list=[\"1\",\"2\",\"3\",\"4\",\"5\",\"6\",\"7\",\"8\"]\n",
    "age_str=[\"10대\",\"20대\",\"30대\",\"40대\",\"50대\",\"60대\",\"70대이상\",\"패스\"]\n",
    "for i in range(8):\n",
    "    print(age_list[i]+\". \"+age_str[i])\n",
    "while flag is False:\n",
    "    age=input(\"나이를 입력해주세요 : \")\n",
    "    if (age in age_list) or (age in age_str) or age==-1:\n",
    "        flag=True\n",
    "        age_type(rep_correlation, age, weekdf)\n",
    "    else:\n",
    "        print(\"잘못된 입력입니다.\")\n",
    "        \n",
    "#사용자 선호도를 모아 prefer_list에 저장\n",
    "prefer_list=[]\n",
    "prefer_list=choose_prefer()"
   ]
  },
  {
   "cell_type": "code",
   "execution_count": 105,
   "metadata": {},
   "outputs": [],
   "source": [
    "#선호 취미 리스트를 기반으로 데이터프레임에서 뽑아냄\n",
    "prefer_data=[]\n",
    "for obj in prefer_list:\n",
    "    prefer_data.append(rep_correlation[obj[0],obj[1]])\n",
    "    \n",
    "fread=open(\"./Leisures/Description_Data_New/onoffdatas.pkl\", 'rb')\n",
    "templist=pickle.load(fread)\n",
    "fread.close()\n",
    "onoff=Series(data=templist, index=columns)\n",
    "user=pd.DataFrame(prefer_data).T\n",
    "\n",
    "for obj in prefer_list: #자기 자신은 추천받지 않도록 0으로 고정\n",
    "    user.loc[obj[0],obj[1]]=0\n",
    "    \n",
    "user['OnOff']=onoff"
   ]
  },
  {
   "cell_type": "code",
   "execution_count": 106,
   "metadata": {},
   "outputs": [],
   "source": [
    "#취미 기반 가중치를 부여하여 다시 계산\n",
    "weightresult=prefer_weight(user)"
   ]
  },
  {
   "cell_type": "code",
   "execution_count": 107,
   "metadata": {},
   "outputs": [],
   "source": [
    "#각 행의 최대값을 나타내는 max 열을 추가하여 판단에 유리함을 더함\n",
    "weightresult['max']=weightresult.drop('OnOff',axis=1).max(axis=1)"
   ]
  },
  {
   "cell_type": "markdown",
   "metadata": {},
   "source": [
    "- 이제 결과를 출력하기 위해 다음과 같은 **4가지 경우에 따른 결과물을 저장**시키기로 함\n",
    "  - 오프라인이 아니면서 상관도가 가장 높은 항목 5가지\n",
    "  - 온라인이 아니면서 상관도가 가장 높은 항목 5가지\n",
    "  - 온/오프라인 구분 없이 상관도가 가장 높은 항목 5가지\n",
    "  - 8가지 카테고리 별 상관도가 가장 높은 항목"
   ]
  },
  {
   "cell_type": "code",
   "execution_count": 108,
   "metadata": {},
   "outputs": [],
   "source": [
    "result=[]\n",
    "result.append(list(weightresult[(weightresult['OnOff']==0)|(weightresult['OnOff']==3)]['max'].sort_values(ascending=False)[:5].items())) #온라인 상관도가 제일 높은 상위 5개\n",
    "result.append(list(weightresult[weightresult['OnOff']!=0]['max'].sort_values(ascending=False)[:5].items())) #오프라인 상관도가 제일 높은 상위 5개\n",
    "result.append(list(weightresult['max'].sort_values(ascending=False)[:5].items())) #온/오프라인 유무 없이 상관도가 제일 높은 상위 5개\n",
    "tempresult=[]\n",
    "for i in big_cat:\n",
    "    tempresult.append(list(weightresult.loc[i]['max'].sort_values(ascending=False)[:1].items())) #카테고리별 상관도가 제일 높은 상위 1개\n",
    "result.append(tempresult)"
   ]
  },
  {
   "cell_type": "code",
   "execution_count": 109,
   "metadata": {},
   "outputs": [
    {
     "name": "stdout",
     "output_type": "stream",
     "text": [
      "오프라인, 또는 대면 활동이 아니면서 사용자와 가장 유사한 여가활동 5가지는 다음과 같습니다.\n",
      "------------------------------------------------------------------------------------------\n",
      "1. '취미/오락활동' 카테고리에 있는 '콜렉션' 활동입니다.\n",
      "2. '취미/오락활동' 카테고리에 있는 'DIY' 활동입니다.\n",
      "3. '문화예술참여활동' 카테고리에 있는 '그림 활동 참여' 활동입니다.\n",
      "4. '취미/오락활동' 카테고리에 있는 '스크랩북' 활동입니다.\n",
      "5. '취미/오락활동' 카테고리에 있는 '자격증 공부' 활동입니다.\n",
      "------------------------------------------------------------------------------------------\n",
      "다른 결과를 보고 싶으신가요?\n",
      "0. 괜찮습니다.\n",
      "1. 비대면/온라인 활동 추천\n",
      "2. 대면/오프라인 활동 추천\n",
      "3. 모든 활동 추천\n",
      "4. 카테고리 별 활동 추천\n",
      "원하는 숫자를 입력해주세요 : 0\n"
     ]
    }
   ],
   "source": [
    "resultindex=0\n",
    "resultlist=[\"0\",\"1\",\"2\",\"3\",\"4\"]\n",
    "while resultindex != -1:\n",
    "    if resultindex==0:\n",
    "        print(\"오프라인, 또는 대면 활동이 아니면서 사용자와 가장 유사한 여가활동 5가지는 다음과 같습니다.\")\n",
    "    elif resultindex==1:\n",
    "        print(\"온라인, 또는 비대면 활동이 아니면서 사용자와 가장 유사한 여가활동 5가지는 다음과 같습니다.\")\n",
    "    elif resultindex==2:\n",
    "        print(\"온/오프라인 구분 없이 사용자와 가장 유사한 여가활동 5가지는 다음과 같습니다.\")\n",
    "    elif resultindex==3:\n",
    "        print(\"각 8개 카테고리별 사용자와 가장 유사한 여가활동은 다음과 같습니다.\")\n",
    "    else:\n",
    "        print(\"잘못된 입력입니다.\")\n",
    "    print(\"------------------------------------------------------------------------------------------\")\n",
    "    if resultindex<3:\n",
    "        for i,obj in enumerate(result[resultindex]):\n",
    "            print(str(i+1)+\". '\"+obj[0][0]+\"' 카테고리에 있는 '\"+obj[0][1].replace(\"_\",\" \")+\"' 활동입니다.\")\n",
    "    else:\n",
    "        for i,obj in enumerate(result[resultindex]):\n",
    "            print(\"'\"+big_cat[i]+\"' 카테고리의 가장 유사한 여가활동은 '\"+obj[0][0].replace(\"_\",\" \")+\"' 활동입니다.\")\n",
    "    print(\"------------------------------------------------------------------------------------------\")\n",
    "    print(\"다른 결과를 보고 싶으신가요?\")\n",
    "    print(\"0. 괜찮습니다.\")\n",
    "    print(\"1. 비대면/온라인 활동 추천\")\n",
    "    print(\"2. 대면/오프라인 활동 추천\")\n",
    "    print(\"3. 모든 활동 추천\")\n",
    "    print(\"4. 카테고리 별 활동 추천\")\n",
    "    flag=False\n",
    "    while flag is False:\n",
    "        inputindex=input(\"원하는 숫자를 입력해주세요 : \")\n",
    "        if inputindex in resultlist:\n",
    "            resultindex=int(inputindex)-1\n",
    "            os.system('cls')\n",
    "            flag=True\n",
    "        else:\n",
    "            print(\"잘못된 입력입니다.\")"
   ]
  },
  {
   "cell_type": "code",
   "execution_count": 110,
   "metadata": {},
   "outputs": [
    {
     "data": {
      "text/plain": [
       "[(('취미/오락활동', '콜렉션'), 0.20412874844169512),\n",
       " (('취미/오락활동', 'DIY'), 0.14186404416588438),\n",
       " (('문화예술참여활동', '그림_활동_참여'), 0.08582657544575016),\n",
       " (('취미/오락활동', '스크랩북'), 0.07888063305776442),\n",
       " (('취미/오락활동', '자격증_공부'), 0.07855652782156738)]"
      ]
     },
     "execution_count": 110,
     "metadata": {},
     "output_type": "execute_result"
    }
   ],
   "source": [
    "result[0]"
   ]
  },
  {
   "cell_type": "code",
   "execution_count": 111,
   "metadata": {},
   "outputs": [
    {
     "data": {
      "text/plain": [
       "[(('문화예술참여활동', '조각_활동_참여'), 0.1616798830559791),\n",
       " (('취미/오락활동', 'DIY'), 0.14186404416588438),\n",
       " (('문화예술관람활동', '미술_전시회_관람'), 0.12587928117044972),\n",
       " (('문화예술관람활동', '디자인_전시회_관람'), 0.11203009632784552),\n",
       " (('문화예술관람활동', '사진_전시회_관람'), 0.08857107231865496)]"
      ]
     },
     "execution_count": 111,
     "metadata": {},
     "output_type": "execute_result"
    }
   ],
   "source": [
    "result[1]"
   ]
  },
  {
   "cell_type": "code",
   "execution_count": 112,
   "metadata": {},
   "outputs": [
    {
     "data": {
      "text/plain": [
       "[(('취미/오락활동', '콜렉션'), 0.20412874844169512),\n",
       " (('문화예술참여활동', '조각_활동_참여'), 0.1616798830559791),\n",
       " (('취미/오락활동', 'DIY'), 0.14186404416588438),\n",
       " (('문화예술관람활동', '미술_전시회_관람'), 0.12587928117044972),\n",
       " (('문화예술관람활동', '디자인_전시회_관람'), 0.11203009632784552)]"
      ]
     },
     "execution_count": 112,
     "metadata": {},
     "output_type": "execute_result"
    }
   ],
   "source": [
    "result[2]"
   ]
  },
  {
   "cell_type": "code",
   "execution_count": 113,
   "metadata": {},
   "outputs": [
    {
     "data": {
      "text/plain": [
       "[[('미술_전시회_관람', 0.12587928117044972)],\n",
       " [('조각_활동_참여', 0.1616798830559791)],\n",
       " [('축구_경기_티비_관람', 0.026111422266432555)],\n",
       " [('필라테스_참여', 0.04467565162056621)],\n",
       " [('풍경_관람', 0.06015766547551995)],\n",
       " [('콜렉션', 0.20412874844169512)],\n",
       " [('음악_감상', 0.03444540732135793)],\n",
       " [('디스코_가기', 0.06182316598536434)]]"
      ]
     },
     "execution_count": 113,
     "metadata": {},
     "output_type": "execute_result"
    }
   ],
   "source": [
    "result[3]"
   ]
  },
  {
   "cell_type": "markdown",
   "metadata": {},
   "source": [
    "- 정상적으로 출력이 됨을 확인할 수 있다"
   ]
  },
  {
   "cell_type": "code",
   "execution_count": null,
   "metadata": {},
   "outputs": [],
   "source": []
  }
 ],
 "metadata": {
  "kernelspec": {
   "display_name": "Python 3",
   "language": "python",
   "name": "python3"
  },
  "language_info": {
   "codemirror_mode": {
    "name": "ipython",
    "version": 3
   },
   "file_extension": ".py",
   "mimetype": "text/x-python",
   "name": "python",
   "nbconvert_exporter": "python",
   "pygments_lexer": "ipython3",
   "version": "3.6.10"
  }
 },
 "nbformat": 4,
 "nbformat_minor": 4
}
